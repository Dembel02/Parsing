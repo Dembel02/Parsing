{
 "cells": [
  {
   "cell_type": "markdown",
   "metadata": {},
   "source": [
    "Обозначения:\n",
    "\n",
    "📝 - определение, которое нужно запомнить\n",
    "\n",
    "`# ⏩`- комментарий, что эту ячейку / функцию нужно просто запустить, она уже написана\n",
    "\n",
    "`# ✏️` - код в этой ячейке / функции мы будем дополнять в процессе урока\n",
    "\n",
    "👨🏻‍💻 - задача для самостоятельного выполнения"
   ]
  },
  {
   "cell_type": "markdown",
   "metadata": {},
   "source": [
    "# Чем мы будем заниматься на уроке?\n",
    "\n",
    "📝 **Модель** - математическая модель (формула), описывающая объект или процесс. После того, как мы выяснили формулу, мы можем строить прогнозы и проводить анализ \"а что будет, если поменять какой-то параметр\"\n",
    "\n",
    "<table>\n",
    "  <tr>\n",
    "    <th></th> <th>Прямая задача</th> <th>Обратная задача</th>\n",
    "  </tr>\n",
    "  <tr>\n",
    "    <th>Дано</th>\n",
    "    <td>y = f(x)</td>\n",
    "    <td bgcolor=\"#93E9BE\">Координаты y</td>\n",
    "  </tr>\n",
    "  <tr>\n",
    "    <th>Найти</th>\n",
    "    <td>Координаты y</td>\n",
    "    <td bgcolor=\"#93E9BE\">Функцию y = z(x)</td>\n",
    "  </tr>\n",
    "  <tr>\n",
    "    <th></th>\n",
    "    <th>↑ Этому учат в школе ↑</th>\n",
    "    <th>↑ <u>Этим занимаются DS</u>↑</th>\n",
    "  </tr>\n",
    "</table>\n",
    "\n",
    "Работа Data Scientist - подобрать наиболее близкую функцию с помощью инструментов машинного обучения."
   ]
  },
  {
   "cell_type": "markdown",
   "metadata": {},
   "source": [
    "# 1. Основные конструкции языка"
   ]
  },
  {
   "cell_type": "markdown",
   "metadata": {},
   "source": [
    "Формат скрипта на Python: *одна строка - одна команда*"
   ]
  },
  {
   "cell_type": "markdown",
   "metadata": {},
   "source": [
    "📝 **Переменная** - место в памяти, в котором хранятся данные и которому дали имя (аналог `x`, `y`, `V_куба` в школьных формулах)\n",
    "\n",
    "📝 **Текст** - тип данных, обозначающий пользовательский текст. Чтобы отделяться от названий перееменных и функций, заключается в кавычки.\n",
    "\n",
    "Напр. `welcome_message = \"Hello\"`\n",
    "\n",
    "📝 **Число** - числовой тип данных. Обозначение как в калькуляторах без кавычек: `2 + 2`. Десятичная часть записывается через точку: `3.1415`.\n",
    "\n",
    "📝 **True/False** - бинарный или булевый тип (bool) тип данных, имеющий 2 значения: истина (`True`) или ложь (`False`). Применяется, например, в выражениях сравнения: `1 > 3 вернет False`.\n",
    "\n",
    "📝 **None** - тип данных \"ничто\", имеющий единственное значение. Нужен как заглушка в тех местах, где значение явно не указано."
   ]
  },
  {
   "cell_type": "code",
   "execution_count": 1,
   "metadata": {},
   "outputs": [
    {
     "data": {
      "text/plain": [
       "'Hello, Skillbox'"
      ]
     },
     "execution_count": 1,
     "metadata": {},
     "output_type": "execute_result"
    }
   ],
   "source": [
    "welcome_message = \"Hello\"\n",
    "name = 'Skillbox'\n",
    "\n",
    "welcome_message + ', ' + name"
   ]
  },
  {
   "cell_type": "code",
   "execution_count": 2,
   "metadata": {},
   "outputs": [
    {
     "data": {
      "text/plain": [
       "4"
      ]
     },
     "execution_count": 2,
     "metadata": {},
     "output_type": "execute_result"
    }
   ],
   "source": [
    "2 + 2"
   ]
  },
  {
   "cell_type": "code",
   "execution_count": 3,
   "metadata": {},
   "outputs": [
    {
     "data": {
      "text/plain": [
       "False"
      ]
     },
     "execution_count": 3,
     "metadata": {},
     "output_type": "execute_result"
    }
   ],
   "source": [
    "1 > 3"
   ]
  },
  {
   "cell_type": "code",
   "execution_count": 4,
   "metadata": {},
   "outputs": [
    {
     "data": {
      "text/plain": [
       "True"
      ]
     },
     "execution_count": 4,
     "metadata": {},
     "output_type": "execute_result"
    }
   ],
   "source": [
    "1 < 3"
   ]
  },
  {
   "cell_type": "code",
   "execution_count": 5,
   "metadata": {},
   "outputs": [
    {
     "data": {
      "text/plain": [
       "True"
      ]
     },
     "execution_count": 5,
     "metadata": {},
     "output_type": "execute_result"
    }
   ],
   "source": [
    "1 == 1"
   ]
  },
  {
   "cell_type": "code",
   "execution_count": 6,
   "metadata": {},
   "outputs": [
    {
     "data": {
      "text/plain": [
       "False"
      ]
     },
     "execution_count": 6,
     "metadata": {},
     "output_type": "execute_result"
    }
   ],
   "source": [
    "welcome_message == 'hello'"
   ]
  },
  {
   "cell_type": "code",
   "execution_count": 7,
   "metadata": {},
   "outputs": [
    {
     "data": {
      "text/plain": [
       "True"
      ]
     },
     "execution_count": 7,
     "metadata": {},
     "output_type": "execute_result"
    }
   ],
   "source": [
    "welcome_message == 'Hello'"
   ]
  },
  {
   "cell_type": "markdown",
   "metadata": {},
   "source": [
    "📝 **Список** - структура данных, в которой может хранится много значений. Значения записываются через запятую в квадратных скобках."
   ]
  },
  {
   "cell_type": "code",
   "execution_count": 8,
   "metadata": {},
   "outputs": [],
   "source": [
    "arr = [36.6, 37.2, None, 38]"
   ]
  },
  {
   "cell_type": "code",
   "execution_count": 10,
   "metadata": {},
   "outputs": [],
   "source": [
    "arr.append(36.3)"
   ]
  },
  {
   "cell_type": "code",
   "execution_count": 11,
   "metadata": {},
   "outputs": [
    {
     "data": {
      "text/plain": [
       "[36.6, 37.2, None, 38, 36.3]"
      ]
     },
     "execution_count": 11,
     "metadata": {},
     "output_type": "execute_result"
    }
   ],
   "source": [
    "arr"
   ]
  },
  {
   "cell_type": "markdown",
   "metadata": {},
   "source": [
    "📝 **Словарь** - структура данных, в которых значения хранятся по **ключу**. Записываются как пары `ключ: значение` через запятую в фигурных скобках.\n",
    "\n",
    "Напр. `{'profession': 'Python-разработчик', 'months': 6}`.\n",
    "\n",
    "Мы можем считывать и перезаписывать элементы по *ключу*: `course['profession'] = 'Python Developer'`\n",
    "\n",
    "Типы данных могут комбинироваться как угодно: список словарей с вложенными списками словарей..."
   ]
  },
  {
   "cell_type": "code",
   "execution_count": 12,
   "metadata": {},
   "outputs": [],
   "source": [
    "course = {'profession': 'Python-разработчик', 'months': 6}"
   ]
  },
  {
   "cell_type": "code",
   "execution_count": 13,
   "metadata": {},
   "outputs": [
    {
     "data": {
      "text/plain": [
       "'Python-разработчик'"
      ]
     },
     "execution_count": 13,
     "metadata": {},
     "output_type": "execute_result"
    }
   ],
   "source": [
    "course['profession']"
   ]
  },
  {
   "cell_type": "code",
   "execution_count": 14,
   "metadata": {},
   "outputs": [],
   "source": [
    "course['profession'] = 'Python Developer'"
   ]
  },
  {
   "cell_type": "code",
   "execution_count": 15,
   "metadata": {},
   "outputs": [
    {
     "data": {
      "text/plain": [
       "{'profession': 'Python Developer', 'months': 6}"
      ]
     },
     "execution_count": 15,
     "metadata": {},
     "output_type": "execute_result"
    }
   ],
   "source": [
    "course"
   ]
  },
  {
   "cell_type": "markdown",
   "metadata": {},
   "source": [
    "📝 Функция - набор инструкций, которым дали имя и возможность задавать параметры (аргументы)\n"
   ]
  },
  {
   "cell_type": "code",
   "execution_count": 16,
   "metadata": {},
   "outputs": [],
   "source": [
    "def add(a, b):\n",
    "    result = a + b\n",
    "    return result"
   ]
  },
  {
   "cell_type": "code",
   "execution_count": 17,
   "metadata": {},
   "outputs": [
    {
     "data": {
      "text/plain": [
       "4"
      ]
     },
     "execution_count": 17,
     "metadata": {},
     "output_type": "execute_result"
    }
   ],
   "source": [
    "add(1,3)"
   ]
  },
  {
   "cell_type": "code",
   "execution_count": 18,
   "metadata": {},
   "outputs": [
    {
     "data": {
      "text/plain": [
       "500200"
      ]
     },
     "execution_count": 18,
     "metadata": {},
     "output_type": "execute_result"
    }
   ],
   "source": [
    "add(100, 500100)"
   ]
  },
  {
   "cell_type": "markdown",
   "metadata": {},
   "source": [
    "👨🏻‍💻 **Задача**: напишите функцию, которая возводит число в квадрат. Она должна принимать 1 аргумент"
   ]
  },
  {
   "cell_type": "code",
   "execution_count": 21,
   "metadata": {},
   "outputs": [],
   "source": [
    "def sqrt_2(a):\n",
    "    result = a ** 2\n",
    "    return result"
   ]
  },
  {
   "cell_type": "code",
   "execution_count": 22,
   "metadata": {},
   "outputs": [
    {
     "data": {
      "text/plain": [
       "36"
      ]
     },
     "execution_count": 22,
     "metadata": {},
     "output_type": "execute_result"
    }
   ],
   "source": [
    "sqrt_2(6)"
   ]
  },
  {
   "cell_type": "markdown",
   "metadata": {},
   "source": [
    "📝 Ключевое слово **if** позвляет выбрать действие в зависимости от ситуации и говорит буквально: если условие выполнено - сверни от основной линии программы в дополнительную ветку кода\n",
    "\n",
    "* После выражения `if <условие, которое дает True или False>` ставится двоеточие\n",
    "* Границы набора команд как в случае с функцией и ключевым словом for определяются по отступу в начале строки\n",
    "* В случае, если условие НЕ выполнено, можно либо не выполнять никакого действия и вернуться в основную ветку программу, либо задать альтернативную ветку с помощью **else**"
   ]
  },
  {
   "cell_type": "code",
   "execution_count": 23,
   "metadata": {},
   "outputs": [
    {
     "name": "stdout",
     "output_type": "stream",
     "text": [
      "Все верно, 5 < 10\n"
     ]
    }
   ],
   "source": [
    "# ▶️▶️\n",
    "a = 5\n",
    "\n",
    "if a < 10:\n",
    "    print('Все верно,', a, '< 10')"
   ]
  },
  {
   "cell_type": "code",
   "execution_count": 24,
   "metadata": {},
   "outputs": [
    {
     "name": "stdout",
     "output_type": "stream",
     "text": [
      "15 >= 10\n"
     ]
    }
   ],
   "source": [
    "a = 15\n",
    "\n",
    "if a < 10:\n",
    "    print('Все верно,', a, '< 10')\n",
    "else:\n",
    "    print(a, '>= 10')"
   ]
  },
  {
   "cell_type": "code",
   "execution_count": 25,
   "metadata": {},
   "outputs": [
    {
     "name": "stdout",
     "output_type": "stream",
     "text": [
      "Все верно, 5 < 10\n",
      "a == 5\n"
     ]
    }
   ],
   "source": [
    "a = 5\n",
    "\n",
    "if a < 10:\n",
    "    print('Все верно,', a, '< 10')\n",
    "    if a == 5:\n",
    "        print('a == 5')\n",
    "else:\n",
    "    print(a, '>= 10')"
   ]
  },
  {
   "cell_type": "markdown",
   "metadata": {},
   "source": [
    "👨🏻‍💻 **Задача**: напишите функцию, которая принимает аргумент под названием time_of_day и если выполняется условие time_of_day == \"утро\", функция печатает сообщение \"Доброе утро\", иначе - \"Добрый день\".\n"
   ]
  }
 ],
 "metadata": {
  "kernelspec": {
   "display_name": "Python 3",
   "language": "python",
   "name": "python3"
  },
  "language_info": {
   "codemirror_mode": {
    "name": "ipython",
    "version": 3
   },
   "file_extension": ".py",
   "mimetype": "text/x-python",
   "name": "python",
   "nbconvert_exporter": "python",
   "pygments_lexer": "ipython3",
   "version": "3.12.7"
  }
 },
 "nbformat": 4,
 "nbformat_minor": 2
}
